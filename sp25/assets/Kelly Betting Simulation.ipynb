{
 "cells": [
  {
   "cell_type": "code",
   "execution_count": 1,
   "id": "17d618ff",
   "metadata": {},
   "outputs": [],
   "source": [
    "import numpy as np\n",
    "import numpy.random as rnd\n",
    "import matplotlib.pyplot as plt"
   ]
  },
  {
   "cell_type": "code",
   "execution_count": 2,
   "id": "12eb26a9",
   "metadata": {},
   "outputs": [],
   "source": [
    "def simulate(choices, probs, alpha, time_steps=100, num_trials=1000):\n",
    "    def outcome():\n",
    "        return rnd.choice(choices, size=num_trials, p=probs)\n",
    "    wealth = np.ones(num_trials)\n",
    "    for t in range(time_steps):\n",
    "        wealth = wealth + alpha * wealth * outcome()\n",
    "    theoretical_wealth = np.exp(time_steps * np.sum(np.array(probs) * np.log(1 + alpha * np.array(choices))))\n",
    "    return wealth, theoretical_wealth\n",
    "\n",
    "def make_plot(wealth, theoretical_wealth, bins=np.geomspace(1e-4, 1e6, num=25)):\n",
    "    print('Median payoff: %.2e (Theory = %.2e)' % (np.median(wealth), theoretical_wealth))\n",
    "    plt.hist(wealth, bins=bins)\n",
    "    plt.axvline(x = theoretical_wealth, color = 'r', label = 'Theory')\n",
    "    plt.semilogx()\n",
    "    plt.show()"
   ]
  },
  {
   "cell_type": "code",
   "execution_count": 8,
   "id": "43c2454c",
   "metadata": {},
   "outputs": [
    {
     "name": "stdout",
     "output_type": "stream",
     "text": [
      "Median payoff: 6.31e-15 (Theory = 6.31e-15)\n"
     ]
    },
    {
     "data": {
      "image/png": "[encoded data removed]",
      "text/plain": [
       "<Figure size 432x288 with 1 Axes>"
      ]
     },
     "metadata": {
      "needs_background": "light"
     },
     "output_type": "display_data"
    }
   ],
   "source": [
    "choices = [-1, 2]\n",
    "probs = [0.5, 0.5]\n",
    "wealth, theoretical_wealth = simulate(choices, probs, 0.8)\n",
    "make_plot(wealth, theoretical_wealth)"
   ]
  },
  {
   "cell_type": "code",
   "execution_count": 10,
   "id": "12e3f565",
   "metadata": {},
   "outputs": [
    {
     "name": "stdout",
     "output_type": "stream",
     "text": [
      "Median payoff: 2.34e+02 (Theory = 1.98e+02)\n"
     ]
    },
    {
     "data": {
      "image/png": "[encoded data removed]",
      "text/plain": [
       "<Figure size 432x288 with 1 Axes>"
      ]
     },
     "metadata": {
      "needs_background": "light"
     },
     "output_type": "display_data"
    }
   ],
   "source": [
    "choices = [-1, 1]\n",
    "probs = [1.0/3, 2.0/3]\n",
    "wealth, theoretical_wealth = simulate(choices, probs, 0.25)\n",
    "make_plot(wealth, theoretical_wealth)"
   ]
  },
  {
   "cell_type": "code",
   "execution_count": 271,
   "id": "3bdc3766",
   "metadata": {},
   "outputs": [
    {
     "name": "stdout",
     "output_type": "stream",
     "text": [
      "Median payoff: 2.86e+01 (Theory = 3.66e+01)\n"
     ]
    },
    {
     "data": {
      "image/png": "[encoded data removed]",
      "text/plain": [
       "<Figure size 432x288 with 1 Axes>"
      ]
     },
     "metadata": {
      "needs_background": "light"
     },
     "output_type": "display_data"
    }
   ],
   "source": [
    "choices = 2   ** np.array([-np.inf, 0, 1, 2, 3, 4, 5, 6, 7]) - 1\n",
    "probs   = 0.5 ** np.array([1, 2, 3, 4, 5, 6, 7, 8, 8])\n",
    "wealth, theoretical_wealth = simulate(choices, probs, 0.12)\n",
    "make_plot(wealth, theoretical_wealth, bins=np.geomspace(1e-5, 1e10, num=25))"
   ]
  }
 ],
 "metadata": {
  "kernelspec": {
   "display_name": "Python 3 (ipykernel)",
   "language": "python",
   "name": "python3"
  },
  "language_info": {
   "codemirror_mode": {
    "name": "ipython",
    "version": 3
   },
   "file_extension": ".py",
   "mimetype": "text/x-python",
   "name": "python",
   "nbconvert_exporter": "python",
   "pygments_lexer": "ipython3",
   "version": "3.10.12"
  }
 },
 "nbformat": 4,
 "nbformat_minor": 5
}
