{
 "cells": [
  {
   "cell_type": "code",
   "execution_count": 1,
   "id": "3531a83c-bd98-4545-b448-825664652b95",
   "metadata": {},
   "outputs": [],
   "source": [
    "import numpy as np\n",
    "import matplotlib.pyplot as plt\n",
    "\n",
    "np.random.seed(2)"
   ]
  },
  {
   "cell_type": "markdown",
   "id": "79508b26-3b9a-44cc-bf2b-cc5e35f45c40",
   "metadata": {},
   "source": [
    "Note: You **must** click `Kernel > \"Restart and Run Kernel and Run All Cells\"` before submitting or you will lose points."
   ]
  },
  {
   "cell_type": "markdown",
   "id": "701f0294-19d9-49c8-bfb7-c84412a07ab8",
   "metadata": {},
   "source": [
    "## Deliberate Practice: Invalidating Considerations"
   ]
  },
  {
   "cell_type": "code",
   "execution_count": 2,
   "id": "3abffde8-0256-4b34-bc8f-fccc2e6c0aac",
   "metadata": {},
   "outputs": [],
   "source": [
    "def mixture(p_0, p_1, epsilon):\n",
    "    \"\"\"\n",
    "    This function generates *one* sample from a mixture distribution.\n",
    "    \"\"\"\n",
    "    if epsilon not in (0.05, 0.1, 0.2):\n",
    "        raise \"Please make sure you passed in the correct epsilon\"\n",
    "    if np.random.random() < epsilon:\n",
    "        return p_1()\n",
    "    return p_0()"
   ]
  },
  {
   "cell_type": "code",
   "execution_count": 3,
   "id": "428a5310-57ed-45b9-be0c-55e2b8f3e96e",
   "metadata": {},
   "outputs": [
    {
     "data": {
      "text/plain": [
       "0.025926231827891333"
      ]
     },
     "execution_count": 3,
     "metadata": {},
     "output_type": "execute_result"
    }
   ],
   "source": [
    "# Example Usage\n",
    "def p0():\n",
    "    return np.random.uniform(0, 1)\n",
    "\n",
    "def p1():\n",
    "    return np.random.uniform(2, 3)\n",
    "\n",
    "\n",
    "mixture(p0, p1, 0.05)"
   ]
  },
  {
   "cell_type": "markdown",
   "id": "c28d54a2-6ead-4717-8a0f-942028773021",
   "metadata": {},
   "source": [
    "Note: you may make as many new cells as needed in this notebook!"
   ]
  },
  {
   "cell_type": "code",
   "execution_count": null,
   "id": "f805676d-a16e-47ea-aaf2-06891841a794",
   "metadata": {},
   "outputs": [],
   "source": []
  },
  {
   "cell_type": "markdown",
   "id": "6b19d401-1e10-4a90-8871-b10ff2ac47c2",
   "metadata": {},
   "source": [
    "## Deliberate Practice: Numerical Sensitivity"
   ]
  },
  {
   "cell_type": "code",
   "execution_count": 4,
   "id": "dad64108-e92a-41a3-8914-f450dd9d694d",
   "metadata": {},
   "outputs": [],
   "source": [
    "def T(N, N_0, t, Delta):\n",
    "    return np.log2(N / (2 * N_0)) * t + Delta"
   ]
  },
  {
   "cell_type": "code",
   "execution_count": null,
   "id": "3f3f7c6e-1b0c-4e78-b73a-8d7b0f67fe58",
   "metadata": {},
   "outputs": [],
   "source": []
  },
  {
   "cell_type": "code",
   "execution_count": null,
   "id": "7b8fe768-ca03-4ae4-af4b-3969226a1221",
   "metadata": {},
   "outputs": [],
   "source": []
  }
 ],
 "metadata": {
  "kernelspec": {
   "display_name": "Python 3 (ipykernel)",
   "language": "python",
   "name": "python3"
  },
  "language_info": {
   "codemirror_mode": {
    "name": "ipython",
    "version": 3
   },
   "file_extension": ".py",
   "mimetype": "text/x-python",
   "name": "python",
   "nbconvert_exporter": "python",
   "pygments_lexer": "ipython3",
   "version": "3.9.15"
  }
 },
 "nbformat": 4,
 "nbformat_minor": 5
}
